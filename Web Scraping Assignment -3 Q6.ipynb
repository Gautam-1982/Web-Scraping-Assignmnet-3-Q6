{
 "cells": [
  {
   "cell_type": "code",
   "execution_count": 2,
   "metadata": {},
   "outputs": [],
   "source": [
    "import selenium\n",
    "import pandas as pd\n",
    "from selenium import webdriver\n",
    "import time \n"
   ]
  },
  {
   "cell_type": "code",
   "execution_count": 3,
   "metadata": {},
   "outputs": [],
   "source": [
    "driver = webdriver.Chrome(executable_path=\"D:\\\\chromedriver_win32\\\\chromedriver.exe\")"
   ]
  },
  {
   "cell_type": "code",
   "execution_count": 4,
   "metadata": {},
   "outputs": [],
   "source": [
    "url = \"https://trak.in/\""
   ]
  },
  {
   "cell_type": "code",
   "execution_count": 5,
   "metadata": {},
   "outputs": [],
   "source": [
    "driver.get(url)"
   ]
  },
  {
   "cell_type": "code",
   "execution_count": 6,
   "metadata": {},
   "outputs": [],
   "source": [
    "driver.find_element_by_xpath('//*[@id=\"menu-item-51510\"]/a').click()"
   ]
  },
  {
   "cell_type": "code",
   "execution_count": 7,
   "metadata": {},
   "outputs": [],
   "source": [
    "Date=[]\n",
    "Startup_name=[]\n",
    "Vertical=[]\n",
    "Sub_vertical=[]\n",
    "Location=[]\n",
    "Investors_name=[]\n",
    "Investment_type=[]\n",
    "Amount=[]\n"
   ]
  },
  {
   "cell_type": "code",
   "execution_count": 8,
   "metadata": {},
   "outputs": [
    {
     "data": {
      "text/plain": [
       "['01/04/2021', '05/04/2021', '14/04/2021', '07/04/2021', '14/04/2021']"
      ]
     },
     "execution_count": 8,
     "metadata": {},
     "output_type": "execute_result"
    }
   ],
   "source": [
    "date = driver.find_elements_by_xpath(\"//td[@class='column-2']\")\n",
    "date[0:5]\n",
    "\n",
    "for i in date:\n",
    "    dates=i.text.replace(\"\\n\",\" \")\n",
    "    Date.append(dates)\n",
    "Date[0:5]"
   ]
  },
  {
   "cell_type": "code",
   "execution_count": 9,
   "metadata": {},
   "outputs": [
    {
     "data": {
      "text/plain": [
       "['BYJU’S', 'Meesho', 'Swiggy', 'Groww', 'Beldara']"
      ]
     },
     "execution_count": 9,
     "metadata": {},
     "output_type": "execute_result"
    }
   ],
   "source": [
    "startup = driver.find_elements_by_xpath(\"//td[@class='column-3']\")\n",
    "startup[0:5]\n",
    "\n",
    "for i in startup:\n",
    "    startups=i.text.replace(\"\\n\",\" \")\n",
    "    Startup_name.append(startups)\n",
    "Startup_name[0:5]"
   ]
  },
  {
   "cell_type": "code",
   "execution_count": 10,
   "metadata": {},
   "outputs": [
    {
     "data": {
      "text/plain": [
       "['Edu-tech', 'E-commerce', 'Online Food Delivery', 'FinTech', 'E-commerce']"
      ]
     },
     "execution_count": 10,
     "metadata": {},
     "output_type": "execute_result"
    }
   ],
   "source": [
    "vertical = driver.find_elements_by_xpath(\"//td[@class='column-4']\")\n",
    "vertical[0:5]\n",
    "\n",
    "for i in vertical:\n",
    "    verticals=i.text.replace(\"\\n\",\" \")\n",
    "    Vertical.append(verticals)\n",
    "Vertical[0:5]"
   ]
  },
  {
   "cell_type": "code",
   "execution_count": 11,
   "metadata": {},
   "outputs": [
    {
     "data": {
      "text/plain": [
       "['Online tutoring',\n",
       " 'Online reselling platform',\n",
       " 'Online Food Delivery',\n",
       " 'Investment platform',\n",
       " 'Global B2B marketplace']"
      ]
     },
     "execution_count": 11,
     "metadata": {},
     "output_type": "execute_result"
    }
   ],
   "source": [
    "sub_vertical = driver.find_elements_by_xpath(\"//td[@class='column-5']\")\n",
    "sub_vertical[0:5]\n",
    "\n",
    "for i in sub_vertical:\n",
    "    sub_verticals=i.text.replace(\"\\n\",\" \")\n",
    "    Sub_vertical.append(sub_verticals)\n",
    "Sub_vertical[0:5]"
   ]
  },
  {
   "cell_type": "code",
   "execution_count": 12,
   "metadata": {},
   "outputs": [
    {
     "data": {
      "text/plain": [
       "['Bengaluru', 'Bengaluru', 'Bengaluru', 'Bengaluru', 'Mumbai']"
      ]
     },
     "execution_count": 12,
     "metadata": {},
     "output_type": "execute_result"
    }
   ],
   "source": [
    "location = driver.find_elements_by_xpath(\"//td[@class='column-6']\")\n",
    "location[0:5]\n",
    "\n",
    "for i in location:\n",
    "    locations=i.text.replace(\"\\n\",\" \")\n",
    "    Location.append(locations)\n",
    "Location[0:5]"
   ]
  },
  {
   "cell_type": "code",
   "execution_count": 13,
   "metadata": {},
   "outputs": [
    {
     "data": {
      "text/plain": [
       "['Innoven Capital',\n",
       " 'SoftBank Vision Fund 2',\n",
       " 'Amansa Holdings, Carmignac, Falcon Edge Capital, Goldman Sachs, Think Investments',\n",
       " 'MC Global Edtech, B Capital, Baron, others',\n",
       " 'Hindustan Media Ventures']"
      ]
     },
     "execution_count": 13,
     "metadata": {},
     "output_type": "execute_result"
    }
   ],
   "source": [
    "investors_name = driver.find_elements_by_xpath(\"//td[@class='column-7']\")\n",
    "investors_name[0:5]\n",
    "\n",
    "for i in investors_name:\n",
    "    investors_names=i.text.replace(\"\\n\",\" \")\n",
    "    Investors_name.append(investors_names)\n",
    "Investors_name[0:5]"
   ]
  },
  {
   "cell_type": "code",
   "execution_count": 14,
   "metadata": {},
   "outputs": [
    {
     "data": {
      "text/plain": [
       "['Series F', 'Series E', 'Series J', 'Series D', 'Venture']"
      ]
     },
     "execution_count": 14,
     "metadata": {},
     "output_type": "execute_result"
    }
   ],
   "source": [
    "investment_type = driver.find_elements_by_xpath(\"//td[@class='column-8']\")\n",
    "investment_type[0:5]\n",
    "\n",
    "for i in investment_type:\n",
    "    investment_types=i.text.replace(\"\\n\",\" \")\n",
    "    Investment_type.append(investment_types)\n",
    "Investment_type[0:5]"
   ]
  },
  {
   "cell_type": "code",
   "execution_count": 15,
   "metadata": {},
   "outputs": [
    {
     "data": {
      "text/plain": [
       "['460,000,000', '300,000,000', '343,000,000', '83,000,000', '7,400,000']"
      ]
     },
     "execution_count": 15,
     "metadata": {},
     "output_type": "execute_result"
    }
   ],
   "source": [
    "amount = driver.find_elements_by_xpath(\"//td[@class='column-9']\")\n",
    "amount[0:5]\n",
    "\n",
    "for i in amount:\n",
    "    amounts=i.text.replace(\"\\n\",\" \")\n",
    "    Amount.append(amounts)\n",
    "Amount[0:5]"
   ]
  },
  {
   "cell_type": "code",
   "execution_count": 16,
   "metadata": {},
   "outputs": [
    {
     "name": "stdout",
     "output_type": "stream",
     "text": [
      "392 392 392 392 392 392 392 392\n"
     ]
    }
   ],
   "source": [
    "print(len(Date),len(Startup_name),len(Vertical),len(Sub_vertical),len(Location),len(Investors_name),len(Investment_type),len(Amount))"
   ]
  },
  {
   "cell_type": "code",
   "execution_count": 17,
   "metadata": {},
   "outputs": [],
   "source": [
    "Funding_deals=pd.DataFrame({})\n",
    "Funding_deals['Date']=Date[0:5]\n",
    "Funding_deals['Startup_name']=Startup_name[0:5]\n",
    "Funding_deals['Vertical']=Vertical[0:5]\n",
    "Funding_deals['Sub_vertical']=Sub_vertical[0:5]\n",
    "Funding_deals['Location']=Location[0:5]\n",
    "Funding_deals['Investors_name']=Investors_name[0:5]\n",
    "Funding_deals['Investment_type']=Investment_type[0:5]\n",
    "Funding_deals['Amount']=Amount[0:5]"
   ]
  },
  {
   "cell_type": "code",
   "execution_count": 18,
   "metadata": {},
   "outputs": [
    {
     "data": {
      "text/html": [
       "<div>\n",
       "<style scoped>\n",
       "    .dataframe tbody tr th:only-of-type {\n",
       "        vertical-align: middle;\n",
       "    }\n",
       "\n",
       "    .dataframe tbody tr th {\n",
       "        vertical-align: top;\n",
       "    }\n",
       "\n",
       "    .dataframe thead th {\n",
       "        text-align: right;\n",
       "    }\n",
       "</style>\n",
       "<table border=\"1\" class=\"dataframe\">\n",
       "  <thead>\n",
       "    <tr style=\"text-align: right;\">\n",
       "      <th></th>\n",
       "      <th>Date</th>\n",
       "      <th>Startup_name</th>\n",
       "      <th>Vertical</th>\n",
       "      <th>Sub_vertical</th>\n",
       "      <th>Location</th>\n",
       "      <th>Investors_name</th>\n",
       "      <th>Investment_type</th>\n",
       "      <th>Amount</th>\n",
       "    </tr>\n",
       "  </thead>\n",
       "  <tbody>\n",
       "    <tr>\n",
       "      <th>0</th>\n",
       "      <td>01/04/2021</td>\n",
       "      <td>BYJU’S</td>\n",
       "      <td>Edu-tech</td>\n",
       "      <td>Online tutoring</td>\n",
       "      <td>Bengaluru</td>\n",
       "      <td>Innoven Capital</td>\n",
       "      <td>Series F</td>\n",
       "      <td>460,000,000</td>\n",
       "    </tr>\n",
       "    <tr>\n",
       "      <th>1</th>\n",
       "      <td>05/04/2021</td>\n",
       "      <td>Meesho</td>\n",
       "      <td>E-commerce</td>\n",
       "      <td>Online reselling platform</td>\n",
       "      <td>Bengaluru</td>\n",
       "      <td>SoftBank Vision Fund 2</td>\n",
       "      <td>Series E</td>\n",
       "      <td>300,000,000</td>\n",
       "    </tr>\n",
       "    <tr>\n",
       "      <th>2</th>\n",
       "      <td>14/04/2021</td>\n",
       "      <td>Swiggy</td>\n",
       "      <td>Online Food Delivery</td>\n",
       "      <td>Online Food Delivery</td>\n",
       "      <td>Bengaluru</td>\n",
       "      <td>Amansa Holdings, Carmignac, Falcon Edge Capita...</td>\n",
       "      <td>Series J</td>\n",
       "      <td>343,000,000</td>\n",
       "    </tr>\n",
       "    <tr>\n",
       "      <th>3</th>\n",
       "      <td>07/04/2021</td>\n",
       "      <td>Groww</td>\n",
       "      <td>FinTech</td>\n",
       "      <td>Investment platform</td>\n",
       "      <td>Bengaluru</td>\n",
       "      <td>MC Global Edtech, B Capital, Baron, others</td>\n",
       "      <td>Series D</td>\n",
       "      <td>83,000,000</td>\n",
       "    </tr>\n",
       "    <tr>\n",
       "      <th>4</th>\n",
       "      <td>14/04/2021</td>\n",
       "      <td>Beldara</td>\n",
       "      <td>E-commerce</td>\n",
       "      <td>Global B2B marketplace</td>\n",
       "      <td>Mumbai</td>\n",
       "      <td>Hindustan Media Ventures</td>\n",
       "      <td>Venture</td>\n",
       "      <td>7,400,000</td>\n",
       "    </tr>\n",
       "  </tbody>\n",
       "</table>\n",
       "</div>"
      ],
      "text/plain": [
       "         Date Startup_name              Vertical               Sub_vertical  \\\n",
       "0  01/04/2021       BYJU’S              Edu-tech            Online tutoring   \n",
       "1  05/04/2021       Meesho            E-commerce  Online reselling platform   \n",
       "2  14/04/2021       Swiggy  Online Food Delivery       Online Food Delivery   \n",
       "3  07/04/2021        Groww               FinTech        Investment platform   \n",
       "4  14/04/2021      Beldara            E-commerce     Global B2B marketplace   \n",
       "\n",
       "    Location                                     Investors_name  \\\n",
       "0  Bengaluru                                    Innoven Capital   \n",
       "1  Bengaluru                             SoftBank Vision Fund 2   \n",
       "2  Bengaluru  Amansa Holdings, Carmignac, Falcon Edge Capita...   \n",
       "3  Bengaluru         MC Global Edtech, B Capital, Baron, others   \n",
       "4     Mumbai                           Hindustan Media Ventures   \n",
       "\n",
       "  Investment_type       Amount  \n",
       "0        Series F  460,000,000  \n",
       "1        Series E  300,000,000  \n",
       "2        Series J  343,000,000  \n",
       "3        Series D   83,000,000  \n",
       "4         Venture    7,400,000  "
      ]
     },
     "execution_count": 18,
     "metadata": {},
     "output_type": "execute_result"
    }
   ],
   "source": [
    "Funding_deals"
   ]
  },
  {
   "cell_type": "code",
   "execution_count": 21,
   "metadata": {},
   "outputs": [],
   "source": [
    "Funding_deals.to_csv(\"Funding_deals.csv\")"
   ]
  },
  {
   "cell_type": "code",
   "execution_count": 22,
   "metadata": {},
   "outputs": [],
   "source": [
    "driver.close()"
   ]
  },
  {
   "cell_type": "code",
   "execution_count": null,
   "metadata": {},
   "outputs": [],
   "source": []
  },
  {
   "cell_type": "code",
   "execution_count": null,
   "metadata": {},
   "outputs": [],
   "source": []
  },
  {
   "cell_type": "code",
   "execution_count": null,
   "metadata": {},
   "outputs": [],
   "source": []
  },
  {
   "cell_type": "code",
   "execution_count": null,
   "metadata": {},
   "outputs": [],
   "source": []
  },
  {
   "cell_type": "code",
   "execution_count": null,
   "metadata": {},
   "outputs": [],
   "source": []
  },
  {
   "cell_type": "code",
   "execution_count": null,
   "metadata": {},
   "outputs": [],
   "source": []
  },
  {
   "cell_type": "code",
   "execution_count": null,
   "metadata": {},
   "outputs": [],
   "source": []
  },
  {
   "cell_type": "code",
   "execution_count": null,
   "metadata": {},
   "outputs": [],
   "source": []
  },
  {
   "cell_type": "code",
   "execution_count": null,
   "metadata": {},
   "outputs": [],
   "source": []
  }
 ],
 "metadata": {
  "kernelspec": {
   "display_name": "Python 3",
   "language": "python",
   "name": "python3"
  },
  "language_info": {
   "codemirror_mode": {
    "name": "ipython",
    "version": 3
   },
   "file_extension": ".py",
   "mimetype": "text/x-python",
   "name": "python",
   "nbconvert_exporter": "python",
   "pygments_lexer": "ipython3",
   "version": "3.8.3"
  }
 },
 "nbformat": 4,
 "nbformat_minor": 4
}
